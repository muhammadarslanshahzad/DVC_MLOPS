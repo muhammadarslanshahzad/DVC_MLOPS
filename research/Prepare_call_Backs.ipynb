{
 "cells": [
  {
   "cell_type": "code",
   "execution_count": 1,
   "id": "ff5658b4",
   "metadata": {},
   "outputs": [],
   "source": [
    "import os"
   ]
  },
  {
   "cell_type": "code",
   "execution_count": 2,
   "id": "63a3953d",
   "metadata": {},
   "outputs": [
    {
     "data": {
      "text/plain": [
       "'/mnt/e/bgRemoveApp/bg_removal/research'"
      ]
     },
     "execution_count": 2,
     "metadata": {},
     "output_type": "execute_result"
    }
   ],
   "source": [
    "%pwd"
   ]
  },
  {
   "cell_type": "code",
   "execution_count": 3,
   "id": "102ea98b",
   "metadata": {},
   "outputs": [],
   "source": [
    "os.chdir('../')"
   ]
  },
  {
   "cell_type": "code",
   "execution_count": 4,
   "id": "5e8cc66d",
   "metadata": {},
   "outputs": [],
   "source": [
    "from dataclasses import dataclass\n",
    "from pathlib import Path\n",
    "\n",
    "@dataclass(frozen=True)\n",
    "class PrepareCallBackConfig:\n",
    "    root_dir:Path\n",
    "    tensorboard_root_log_dir:Path\n",
    "    checkpoint_model_filepath:Path\n",
    "    csv_filePath:Path    "
   ]
  },
  {
   "cell_type": "code",
   "execution_count": 5,
   "id": "bf43f7ff",
   "metadata": {},
   "outputs": [],
   "source": [
    "from bgremove.constants import *\n",
    "from bgremove.utils.common import read_yaml, create_directories"
   ]
  },
  {
   "cell_type": "code",
   "execution_count": 6,
   "id": "a6d2d5c8",
   "metadata": {},
   "outputs": [],
   "source": [
    "class ConfigurationManager:\n",
    "    def __init__(\n",
    "        self,\n",
    "        config_filepath = CONFIG_FILE_PATH,\n",
    "        params_filepath = PARAMS_FILE_PATH):\n",
    "        \n",
    "        self.config = read_yaml(config_filepath)\n",
    "        self.params = read_yaml(params_filepath)\n",
    "        print(self.config.prepare_callbacks)\n",
    "        \n",
    "    def get_call_backs_config(self)->PrepareCallBackConfig:\n",
    "        config = self.config.prepare_callbacks\n",
    "        model_ckpt_dir = os.path.dirname(config.checkpoint_model_filepath)\n",
    "        create_directories([\n",
    "            Path(model_ckpt_dir),\n",
    "            Path(config.tensorboard_root_log_dir)\n",
    "        ])\n",
    "\n",
    "        prepare_callback_config = PrepareCallBackConfig(\n",
    "            root_dir = Path(config.root_dir),\n",
    "            tensorboard_root_log_dir = Path(config.tensorboard_root_log_dir),\n",
    "            checkpoint_model_filepath = Path(config.checkpoint_model_filepath),\n",
    "            csv_filePath = Path(config.csv_path)\n",
    "        )\n",
    "\n",
    "        return prepare_callback_config"
   ]
  },
  {
   "cell_type": "code",
   "execution_count": 7,
   "id": "32dcc8f8",
   "metadata": {},
   "outputs": [
    {
     "name": "stderr",
     "output_type": "stream",
     "text": [
      "2023-08-29 18:20:09.910165: I tensorflow/core/platform/cpu_feature_guard.cc:182] This TensorFlow binary is optimized to use available CPU instructions in performance-critical operations.\n",
      "To enable the following instructions: AVX2 FMA, in other operations, rebuild TensorFlow with the appropriate compiler flags.\n",
      "2023-08-29 18:20:10.907589: W tensorflow/compiler/tf2tensorrt/utils/py_utils.cc:38] TF-TRT Warning: Could not find TensorRT\n"
     ]
    },
    {
     "name": "stdout",
     "output_type": "stream",
     "text": [
      "[2023-08-29 18:20:12,148: INFO: utils: Note: NumExpr detected 16 cores but \"NUMEXPR_MAX_THREADS\" not set, so enforcing safe limit of 8.]\n",
      "[2023-08-29 18:20:12,150: INFO: utils: NumExpr defaulting to 8 threads.]\n"
     ]
    }
   ],
   "source": [
    "import os\n",
    "import tensorflow as tf\n",
    "import time"
   ]
  },
  {
   "cell_type": "code",
   "execution_count": 8,
   "id": "fa51ba6d",
   "metadata": {},
   "outputs": [
    {
     "name": "stdout",
     "output_type": "stream",
     "text": [
      "[2023-08-29 18:20:12,581: INFO: common: yaml file: params.yaml loaded successfully]\n"
     ]
    }
   ],
   "source": [
    "params = read_yaml(PARAMS_FILE_PATH)"
   ]
  },
  {
   "cell_type": "code",
   "execution_count": 9,
   "id": "d2e9a081",
   "metadata": {},
   "outputs": [],
   "source": [
    "class PrepareCallBacks:\n",
    "    def __init__(self, config:PrepareCallBackConfig):\n",
    "        self.config= config\n",
    "    \n",
    "    @property\n",
    "    def _create_tb_callbacks(self):\n",
    "        timestamp = time.strftime(\"%Y-%m-%d-%H-%M-%S\")\n",
    "        tb_running_log_dir = os.path.join(\n",
    "            self.config.tensorboard_root_log_dir,\n",
    "            f\"tb_logs_at_{timestamp}\"\n",
    "        )\n",
    "        return tf.keras.callbacks.TensorBoard(log_dir=tb_running_log_dir)\n",
    "    \n",
    "    @property\n",
    "    def _create_ckpt_callbacks(self):\n",
    "            return tf.keras.callbacks.ModelCheckpoint(\n",
    "                filepath=str(self.config.checkpoint_model_filepath),\n",
    "                verbose=params.VERBOSE,\n",
    "                save_best_only=params.SAVE_BEST_ONLY)\n",
    "    \n",
    "    @property\n",
    "    def _reduce_on_paleatue(self):\n",
    "            return tf.keras.callbacks.ReduceLROnPlateau(\n",
    "                monitor=params.MONITOR,\n",
    "                factor=params.FACTOR, \n",
    "                patience=params.PATIENCE_REDUCE_LEARNING, \n",
    "                min_lr=params.MIN_LR, \n",
    "                verbose=params.VERBOSE)\n",
    "            \n",
    "    @property\n",
    "    def _csv_logger(self):\n",
    "            return tf.keras.callbacks.CSVLogger(self.config.csv_filePath)\n",
    "    \n",
    "    @property \n",
    "    def _early_stopping(self):\n",
    "            return tf.keras.callbacks.EarlyStopping(monitor=params.MONITOR, patience=params.PATIENCE_EARLY_STOPPING, restore_best_weights=params.RESTORE_BEST_WEIGHTS)\n",
    "            \n",
    "    def get_callbacks(self):\n",
    "        return [\n",
    "            self._create_tb_callbacks, \n",
    "            self._create_ckpt_callbacks,\n",
    "            self._reduce_on_paleatue,\n",
    "            self._csv_logger,\n",
    "            self._early_stopping\n",
    "        ]"
   ]
  },
  {
   "cell_type": "code",
   "execution_count": 10,
   "id": "7c76dcd0",
   "metadata": {},
   "outputs": [
    {
     "name": "stdout",
     "output_type": "stream",
     "text": [
      "[2023-08-29 18:20:12,623: INFO: common: yaml file: config/config.yaml loaded successfully]\n",
      "[2023-08-29 18:20:12,635: INFO: common: yaml file: params.yaml loaded successfully]\n",
      "{'root_dir': 'artifacts/prepare_callbacks', 'tensorboard_root_log_dir': 'artifacts/prepare_callbacks/tensorboard_log_dir', 'checkpoint_model_filepath': 'artifacts/prepare_callbacks/checkpoint_dir/model.h5', 'csv_path': 'artifacts/prepare_callbacks/csv/log.csv'}\n",
      "[2023-08-29 18:20:12,648: INFO: common: created directory at: artifacts/prepare_callbacks/checkpoint_dir]\n",
      "[2023-08-29 18:20:12,663: INFO: common: created directory at: artifacts/prepare_callbacks/tensorboard_log_dir]\n",
      "[<keras.callbacks.TensorBoard object at 0x7f85b6b10730>, <keras.callbacks.ModelCheckpoint object at 0x7f85b6b13dc0>, <keras.callbacks.ReduceLROnPlateau object at 0x7f85b6b13e80>, <keras.callbacks.CSVLogger object at 0x7f85b6b10460>, <keras.callbacks.EarlyStopping object at 0x7f85b6b10670>]\n"
     ]
    }
   ],
   "source": [
    "try:\n",
    "    config = ConfigurationManager()\n",
    "    prepare_callbacks_config = config.get_call_backs_config()\n",
    "    prepare_callbacks = PrepareCallBacks(config= prepare_callbacks_config)\n",
    "    callback_list = prepare_callbacks.get_callbacks()\n",
    "    print(callback_list)\n",
    "except Exception as e:\n",
    "    raise e"
   ]
  },
  {
   "cell_type": "code",
   "execution_count": 11,
   "id": "d13383c5",
   "metadata": {},
   "outputs": [
    {
     "data": {
      "text/plain": [
       "'tb_logs_at_2023-08-29-18-21-55'"
      ]
     },
     "execution_count": 11,
     "metadata": {},
     "output_type": "execute_result"
    }
   ],
   "source": [
    "import time\n",
    "timestamp = time.strftime(\"%Y-%m-%d-%H-%M-%S\")\n",
    "f\"tb_logs_at_{timestamp}\""
   ]
  },
  {
   "cell_type": "code",
   "execution_count": null,
   "id": "a7fb852a",
   "metadata": {},
   "outputs": [],
   "source": []
  }
 ],
 "metadata": {
  "kernelspec": {
   "display_name": "Python 3 (ipykernel)",
   "language": "python",
   "name": "python3"
  },
  "language_info": {
   "codemirror_mode": {
    "name": "ipython",
    "version": 3
   },
   "file_extension": ".py",
   "mimetype": "text/x-python",
   "name": "python",
   "nbconvert_exporter": "python",
   "pygments_lexer": "ipython3",
   "version": "3.10.9"
  }
 },
 "nbformat": 4,
 "nbformat_minor": 5
}
