{
 "cells": [
  {
   "cell_type": "code",
   "execution_count": 1,
   "id": "3142717c",
   "metadata": {},
   "outputs": [],
   "source": [
    "import os"
   ]
  },
  {
   "cell_type": "code",
   "execution_count": 4,
   "id": "c57cffad",
   "metadata": {},
   "outputs": [
    {
     "data": {
      "text/plain": [
       "'/mnt/e/bgRemoveApp/bg_removal'"
      ]
     },
     "execution_count": 4,
     "metadata": {},
     "output_type": "execute_result"
    }
   ],
   "source": [
    "%pwd"
   ]
  },
  {
   "cell_type": "code",
   "execution_count": 3,
   "id": "594f7c15",
   "metadata": {},
   "outputs": [],
   "source": [
    "os.chdir(\"../\")"
   ]
  },
  {
   "cell_type": "code",
   "execution_count": 5,
   "id": "c1f70550",
   "metadata": {},
   "outputs": [],
   "source": [
    "from dataclasses import dataclass\n",
    "from pathlib import Path\n",
    "\n",
    "@dataclass(frozen=True)\n",
    "class TrainingConfig:\n",
    "    root_dir:Path\n",
    "    trained_model_path:Path\n",
    "    base_model_path:Path\n",
    "    training_data:Path\n",
    "    params_epochs: int\n",
    "    params_batach_size: int\n",
    "    params_is_augmentation: bool\n",
    "    params_image_size: list\n",
    "        \n",
    "\n",
    "@dataclass(frozen=True)\n",
    "class PrepareCallBackConfig:\n",
    "    root_dir:Path\n",
    "    tensorboard_root_log_dir:Path\n",
    "    checkpoint_model_filepath:Path\n",
    "    csv_filePath:Path"
   ]
  },
  {
   "cell_type": "code",
   "execution_count": 7,
   "id": "9ed3a42a",
   "metadata": {},
   "outputs": [
    {
     "name": "stderr",
     "output_type": "stream",
     "text": [
      "2023-08-29 18:53:19.995546: I tensorflow/core/platform/cpu_feature_guard.cc:182] This TensorFlow binary is optimized to use available CPU instructions in performance-critical operations.\n",
      "To enable the following instructions: AVX2 FMA, in other operations, rebuild TensorFlow with the appropriate compiler flags.\n",
      "2023-08-29 18:53:21.194441: W tensorflow/compiler/tf2tensorrt/utils/py_utils.cc:38] TF-TRT Warning: Could not find TensorRT\n"
     ]
    },
    {
     "name": "stdout",
     "output_type": "stream",
     "text": [
      "[2023-08-29 18:53:22,649: INFO: utils: Note: NumExpr detected 16 cores but \"NUMEXPR_MAX_THREADS\" not set, so enforcing safe limit of 8.]\n",
      "[2023-08-29 18:53:22,651: INFO: utils: NumExpr defaulting to 8 threads.]\n"
     ]
    }
   ],
   "source": [
    "from bgremove.constants import *\n",
    "from bgremove.utils.common import read_yaml, create_directories\n",
    "import tensorflow as tf"
   ]
  },
  {
   "cell_type": "code",
   "execution_count": 8,
   "id": "932e082f",
   "metadata": {},
   "outputs": [],
   "source": [
    "class ConfigurationManager:\n",
    "    def __init__(\n",
    "        self,\n",
    "        config_filePath = CONFIG_FILE_PATH,\n",
    "        params_fielPath = PARAMS_FILE_PATH):\n",
    "        \n",
    "        self.config = read_yaml(config_filePath)\n",
    "        self.params = read_yaml(params_filePath)\n",
    "        \n",
    "    def get_call_backs_config(self)->PrepareCallBackConfig:\n",
    "        config = self.config.prepare_callbacks\n",
    "        model_ckpt_dir = os.path.dirname(config.checkpoint_model_filepath)\n",
    "        create_directories([\n",
    "            Path(model_ckpt_dir),\n",
    "            Path(config.tensorboard_root_log_dir)\n",
    "        ])\n",
    "\n",
    "        prepare_callback_config = PrepareCallBackConfig(\n",
    "            root_dir = Path(config.root_dir),\n",
    "            tensorboard_root_log_dir = Path(config.tensorboard_root_log_dir),\n",
    "            checkpoint_model_filepath = Path(config.checkpoint_model_filepath),\n",
    "            csv_filePath = Path(config.csv_path)\n",
    "        )\n",
    "\n",
    "        return prepare_callback_config\n",
    "    \n",
    "    def get_training_config(self)->TrainingConfig:\n",
    "        training = self.config.training\n",
    "        prepare_base_model = self.config.prepare_base_model\n",
    "        params = self.params\n",
    "        training_data = self.config.data_ingestion.unzip_dir\n",
    "        create_directories([\n",
    "            Path(training.root_dir)\n",
    "        ])\n",
    "        \n",
    "        training_config = TrainingConfig(\n",
    "            root_dir = Path(training.root_dir),\n",
    "            trianed_model_path = Path(training.trained_model_path),\n",
    "            base_model_path =Path(prepare_base_model.base_model_path),\n",
    "            training_data = Path(training_data),\n",
    "            params_epochs = params.EPOCHS,\n",
    "            params_batch_size = params.BATCH_SIZE,\n",
    "            params_is_augmentation = params.AUGMENTATION,\n",
    "            params_image_size = params.IMAGE_SIZE\n",
    "        )\n",
    "        \n",
    "        return training_config\n",
    "        "
   ]
  },
  {
   "cell_type": "code",
   "execution_count": 9,
   "id": "a40733b9",
   "metadata": {},
   "outputs": [],
   "source": [
    "import time"
   ]
  },
  {
   "cell_type": "code",
   "execution_count": 10,
   "id": "88b7b483",
   "metadata": {},
   "outputs": [],
   "source": [
    "\n",
    "class PrepareCallBacks:\n",
    "    def __init__(self, config:PrepareCallBackConfig):\n",
    "        self.config= config\n",
    "    \n",
    "    @property\n",
    "    def _create_tb_callbacks(self):\n",
    "        timestamp = time.strftime(\"%Y-%m-%d-%H-%M-%S\")\n",
    "        tb_running_log_dir = os.path.join(\n",
    "            self.config.tensorboard_root_log_dir,\n",
    "            f\"tb_logs_at_{timestamp}\"\n",
    "        )\n",
    "        return tf.keras.callbacks.TensorBoard(log_dir=tb_running_log_dir)\n",
    "    \n",
    "    @property\n",
    "    def _create_ckpt_callbacks(self):\n",
    "            return tf.keras.callbacks.ModelCheckpoint(\n",
    "                filepath=str(self.config.checkpoint_model_filepath),\n",
    "                verbose=params.VERBOSE,\n",
    "                save_best_only=params.SAVE_BEST_ONLY)\n",
    "    \n",
    "    @property\n",
    "    def _reduce_on_paleatue(self):\n",
    "            return tf.keras.callbacks.ReduceLROnPlateau(\n",
    "                monitor=params.MONITOR,\n",
    "                factor=params.FACTOR, \n",
    "                patience=params.PATIENCE_REDUCE_LEARNING, \n",
    "                min_lr=params.MIN_LR, \n",
    "                verbose=params.VERBOSE)\n",
    "            \n",
    "    @property\n",
    "    def _csv_logger(self):\n",
    "            return tf.keras.callbacks.CSVLogger(self.config.csv_filePath)\n",
    "    \n",
    "    @property \n",
    "    def _early_stopping(self):\n",
    "            return tf.keras.callbacks.EarlyStopping(monitor=params.MONITOR, patience=params.PATIENCE_EARLY_STOPPING, restore_best_weights=params.RESTORE_BEST_WEIGHTS)\n",
    "            \n",
    "    def get_callbacks(self):\n",
    "        return [\n",
    "            self._create_tb_callbacks, \n",
    "            self._create_ckpt_callbacks,\n",
    "            self._reduce_on_paleatue,\n",
    "            self._csv_logger,\n",
    "            self._early_stopping\n",
    "        ]"
   ]
  },
  {
   "cell_type": "code",
   "execution_count": 13,
   "id": "b121f82c",
   "metadata": {},
   "outputs": [],
   "source": [
    "import tensorflow as tf\n",
    "import cv2"
   ]
  },
  {
   "cell_type": "code",
   "execution_count": 15,
   "id": "b3a2d6a2",
   "metadata": {},
   "outputs": [],
   "source": [
    "class Training:\n",
    "    def __init__(self, config:TrainingConfig):\n",
    "        self.config = config\n",
    "    \n",
    "    def get_base_model(self):\n",
    "        self.model = tf.keras.models.load_model(\n",
    "            self.config.base_model_path\n",
    "        )\n",
    "    \n",
    "    def load_data(self):\n",
    "        train_x = sorted(glob(os.path.join(path, \"train\", \"blurred_image\", \"*.jpg\")))\n",
    "        train_y = sorted(glob(os.path.join(path, \"train\", \"mask\", \"*.png\")))\n",
    "\n",
    "        valid_x = sorted(glob(os.path.join(path, \"validation\", \"P3M-500-NP\", \"original_image\", \"*.jpg\")))\n",
    "        valid_y = sorted(glob(os.path.join(path, \"validation\", \"P3M-500-NP\", \"mask\", \"*.png\")))\n",
    "\n",
    "        return (train_x, train_y), (valid_x, valid_y)\n",
    "    \n",
    "\n",
    "    def read_image(path):\n",
    "        path = path.decode()\n",
    "        x = cv2.imread(path, cv2.IMREAD_COLOR)\n",
    "        x = cv2.resize(x, (W, H))\n",
    "        x = x / 255.0\n",
    "        x = x.astype(np.float32)\n",
    "        return x\n",
    "\n",
    "    def read_mask(path):\n",
    "        path = path.decode()\n",
    "        x = cv2.imread(path, cv2.IMREAD_GRAYSCALE)\n",
    "        x = cv2.resize(x, (W, H))\n",
    "        x = x / 255.0\n",
    "        x = x.astype(np.float32)\n",
    "        x = np.expand_dims(x, axis=-1)\n",
    "        return x\n",
    "\n",
    "    def tf_parse(x, y):\n",
    "        def _parse(x, y):\n",
    "            x = read_image(x)\n",
    "            y = read_mask(y)\n",
    "            return x, y\n",
    "\n",
    "        x, y = tf.numpy_function(_parse, [x, y], [tf.float32, tf.float32])\n",
    "        x.set_shape([H, W, 3])\n",
    "        y.set_shape([H, W, 1])\n",
    "        return x, y\n",
    "\n",
    "    def tf_dataset(X, Y, batch=2):\n",
    "        ds = tf.data.Dataset.from_tensor_slices((X, Y))\n",
    "        ds = ds.map(tf_parse).batch(batch).prefetch(10)\n",
    "        return ds\n",
    "\n",
    "    @staticmethod\n",
    "    def save_model(path: Path, model: tf.keras.Model):\n",
    "        model.save(path)\n",
    "    \n",
    "    def train(self, callback_list:list):\n",
    "        self.model.fit(\n",
    "            trained_ds,\n",
    "            epochs=params.EPOCHS,\n",
    "            validation_data= vlaid_data,\n",
    "            callbacks= callback_list\n",
    "        )\n",
    "\n",
    "        "
   ]
  },
  {
   "cell_type": "code",
   "execution_count": null,
   "id": "c2eda517",
   "metadata": {},
   "outputs": [],
   "source": []
  }
 ],
 "metadata": {
  "kernelspec": {
   "display_name": "Python 3 (ipykernel)",
   "language": "python",
   "name": "python3"
  },
  "language_info": {
   "codemirror_mode": {
    "name": "ipython",
    "version": 3
   },
   "file_extension": ".py",
   "mimetype": "text/x-python",
   "name": "python",
   "nbconvert_exporter": "python",
   "pygments_lexer": "ipython3",
   "version": "3.10.9"
  }
 },
 "nbformat": 4,
 "nbformat_minor": 5
}
